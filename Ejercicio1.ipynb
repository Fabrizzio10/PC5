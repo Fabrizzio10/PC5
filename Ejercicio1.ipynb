{
 "cells": [
  {
   "cell_type": "code",
   "execution_count": 39,
   "id": "402c135a",
   "metadata": {},
   "outputs": [],
   "source": [
    "import pandas as pd\n",
    "import matplotlib.pyplot as plt\n",
    "df_airbnb = pd.read_csv(\"./data/airbnb.csv\")"
   ]
  },
  {
   "cell_type": "code",
   "execution_count": 40,
   "id": "06e93e39",
   "metadata": {
    "scrolled": false
   },
   "outputs": [
    {
     "data": {
      "text/html": [
       "<div>\n",
       "<style scoped>\n",
       "    .dataframe tbody tr th:only-of-type {\n",
       "        vertical-align: middle;\n",
       "    }\n",
       "\n",
       "    .dataframe tbody tr th {\n",
       "        vertical-align: top;\n",
       "    }\n",
       "\n",
       "    .dataframe thead th {\n",
       "        text-align: right;\n",
       "    }\n",
       "</style>\n",
       "<table border=\"1\" class=\"dataframe\">\n",
       "  <thead>\n",
       "    <tr style=\"text-align: right;\">\n",
       "      <th></th>\n",
       "      <th>room_id</th>\n",
       "      <th>host_id</th>\n",
       "      <th>room_type</th>\n",
       "      <th>neighborhood</th>\n",
       "      <th>reviews</th>\n",
       "      <th>overall_satisfaction</th>\n",
       "      <th>accommodates</th>\n",
       "      <th>bedrooms</th>\n",
       "      <th>price</th>\n",
       "    </tr>\n",
       "  </thead>\n",
       "  <tbody>\n",
       "    <tr>\n",
       "      <th>0</th>\n",
       "      <td>6499</td>\n",
       "      <td>14455</td>\n",
       "      <td>Entire home/apt</td>\n",
       "      <td>Belém</td>\n",
       "      <td>8</td>\n",
       "      <td>5.0</td>\n",
       "      <td>2</td>\n",
       "      <td>1.0</td>\n",
       "      <td>57.0</td>\n",
       "    </tr>\n",
       "    <tr>\n",
       "      <th>1</th>\n",
       "      <td>17031</td>\n",
       "      <td>66015</td>\n",
       "      <td>Entire home/apt</td>\n",
       "      <td>Alvalade</td>\n",
       "      <td>0</td>\n",
       "      <td>0.0</td>\n",
       "      <td>2</td>\n",
       "      <td>1.0</td>\n",
       "      <td>46.0</td>\n",
       "    </tr>\n",
       "    <tr>\n",
       "      <th>2</th>\n",
       "      <td>25659</td>\n",
       "      <td>107347</td>\n",
       "      <td>Entire home/apt</td>\n",
       "      <td>Santa Maria Maior</td>\n",
       "      <td>63</td>\n",
       "      <td>5.0</td>\n",
       "      <td>3</td>\n",
       "      <td>1.0</td>\n",
       "      <td>69.0</td>\n",
       "    </tr>\n",
       "    <tr>\n",
       "      <th>3</th>\n",
       "      <td>29248</td>\n",
       "      <td>125768</td>\n",
       "      <td>Entire home/apt</td>\n",
       "      <td>Santa Maria Maior</td>\n",
       "      <td>225</td>\n",
       "      <td>4.5</td>\n",
       "      <td>4</td>\n",
       "      <td>1.0</td>\n",
       "      <td>58.0</td>\n",
       "    </tr>\n",
       "    <tr>\n",
       "      <th>4</th>\n",
       "      <td>29396</td>\n",
       "      <td>126415</td>\n",
       "      <td>Entire home/apt</td>\n",
       "      <td>Santa Maria Maior</td>\n",
       "      <td>132</td>\n",
       "      <td>5.0</td>\n",
       "      <td>4</td>\n",
       "      <td>1.0</td>\n",
       "      <td>67.0</td>\n",
       "    </tr>\n",
       "  </tbody>\n",
       "</table>\n",
       "</div>"
      ],
      "text/plain": [
       "   room_id  host_id        room_type       neighborhood  reviews  \\\n",
       "0     6499    14455  Entire home/apt              Belém        8   \n",
       "1    17031    66015  Entire home/apt           Alvalade        0   \n",
       "2    25659   107347  Entire home/apt  Santa Maria Maior       63   \n",
       "3    29248   125768  Entire home/apt  Santa Maria Maior      225   \n",
       "4    29396   126415  Entire home/apt  Santa Maria Maior      132   \n",
       "\n",
       "   overall_satisfaction  accommodates  bedrooms  price  \n",
       "0                   5.0             2       1.0   57.0  \n",
       "1                   0.0             2       1.0   46.0  \n",
       "2                   5.0             3       1.0   69.0  \n",
       "3                   4.5             4       1.0   58.0  \n",
       "4                   5.0             4       1.0   67.0  "
      ]
     },
     "execution_count": 40,
     "metadata": {},
     "output_type": "execute_result"
    }
   ],
   "source": [
    "df_airbnb.head()"
   ]
  },
  {
   "cell_type": "markdown",
   "id": "00f1ad30",
   "metadata": {},
   "source": [
    "## 1. Realizar Análisis Exploratorio de los datos"
   ]
  },
  {
   "cell_type": "code",
   "execution_count": 41,
   "id": "acc3a351",
   "metadata": {},
   "outputs": [
    {
     "name": "stdout",
     "output_type": "stream",
     "text": [
      "Shape of the dataset: (13232, 9)\n",
      "Columnas del dataset: Index(['room_id', 'host_id', 'room_type', 'neighborhood', 'reviews',\n",
      "       'overall_satisfaction', 'accommodates', 'bedrooms', 'price'],\n",
      "      dtype='object')\n",
      "<class 'pandas.core.frame.DataFrame'>\n",
      "RangeIndex: 13232 entries, 0 to 13231\n",
      "Data columns (total 9 columns):\n",
      " #   Column                Non-Null Count  Dtype  \n",
      "---  ------                --------------  -----  \n",
      " 0   room_id               13232 non-null  int64  \n",
      " 1   host_id               13232 non-null  int64  \n",
      " 2   room_type             13232 non-null  object \n",
      " 3   neighborhood          13232 non-null  object \n",
      " 4   reviews               13232 non-null  int64  \n",
      " 5   overall_satisfaction  13222 non-null  float64\n",
      " 6   accommodates          13232 non-null  int64  \n",
      " 7   bedrooms              13232 non-null  float64\n",
      " 8   price                 13232 non-null  float64\n",
      "dtypes: float64(3), int64(4), object(2)\n",
      "memory usage: 930.5+ KB\n",
      "None\n"
     ]
    }
   ],
   "source": [
    "# Obtener el tamaño del dataset (número de filas y columnas)\n",
    "print(\"Shape of the dataset:\", df_airbnb.shape)\n",
    "\n",
    "# Nombres de las columnas\n",
    "print(\"Columnas del dataset:\", df_airbnb.columns)\n",
    "\n",
    "# Información general sobre el dataset (tipos de datos, valores nulos, etc.)\n",
    "print(df_airbnb.info())"
   ]
  },
  {
   "cell_type": "markdown",
   "id": "947b493c",
   "metadata": {},
   "source": [
    "# Realizar Filtrados a Datos "
   ]
  },
  {
   "cell_type": "code",
   "execution_count": 42,
   "id": "94895c48",
   "metadata": {},
   "outputs": [
    {
     "name": "stdout",
     "output_type": "stream",
     "text": [
      "Opciones para Alicia:\n",
      "     room_id       neighborhood  overall_satisfaction  reviews  price  \\\n",
      "120   176153       Misericórdia                   5.0      438  102.0   \n",
      "16     44043  Santa Maria Maior                   5.0      316   80.0   \n",
      "140   202150  Santa Maria Maior                   5.0      274   62.0   \n",
      "\n",
      "     bedrooms  \n",
      "120       2.0  \n",
      "16        3.0  \n",
      "140       2.0  \n"
     ]
    }
   ],
   "source": [
    "# Caso 1: Alicia\n",
    "# Filtramos apartamentos con más de 10 críticas, puntuación mayor a 4 y con al menos 2 habitaciones\n",
    "alicia_filter = df_airbnb[\n",
    "    (df_airbnb['reviews'] > 10) &\n",
    "    (df_airbnb['overall_satisfaction'] > 4) &\n",
    "    (df_airbnb['bedrooms'] >= 2)\n",
    "]\n",
    "\n",
    "# Ordenamos por puntuación y por número de críticas\n",
    "alicia_sorted = alicia_filter.sort_values(by=['overall_satisfaction', 'reviews'], ascending=[False, False])\n",
    "\n",
    "# Seleccionamos las 3 mejores opciones\n",
    "alicia_options = alicia_sorted.head(3)\n",
    "\n",
    "# Mostramos el resultado\n",
    "print(\"Opciones para Alicia:\")\n",
    "print(alicia_options[['room_id', 'neighborhood', 'overall_satisfaction', 'reviews', 'price', 'bedrooms']])\n"
   ]
  },
  {
   "cell_type": "code",
   "execution_count": 43,
   "id": "590c3c9a",
   "metadata": {},
   "outputs": [
    {
     "name": "stdout",
     "output_type": "stream",
     "text": [
      "Propiedades de Roberto y Clara:\n",
      "    room_id  host_id  reviews  overall_satisfaction  price   neighborhood\n",
      "41    90387   490050      204                   5.0   46.0  Santo António\n",
      "48    97503   515924       39                   4.0   26.0  Santo António\n"
     ]
    }
   ],
   "source": [
    "# Caso 2: Roberto y Clara\n",
    "# Filtramos las propiedades de Roberto (id: 97503) y Clara (id: 90387)\n",
    "roberto_clara_filter = df_airbnb[df_airbnb['room_id'].isin([97503, 90387])]\n",
    "\n",
    "# Guardamos el dataframe en un archivo Excel\n",
    "roberto_clara_filter.to_excel(\"roberto.xlsx\", index=False)\n",
    "\n",
    "# Mostramos el resultado\n",
    "print(\"Propiedades de Roberto y Clara:\")\n",
    "print(roberto_clara_filter[['room_id', 'host_id', 'reviews', 'overall_satisfaction', 'price', 'neighborhood']])\n"
   ]
  },
  {
   "cell_type": "code",
   "execution_count": 44,
   "id": "f6988971",
   "metadata": {},
   "outputs": [
    {
     "name": "stdout",
     "output_type": "stream",
     "text": [
      "Opciones para Diana:\n",
      "       room_id    room_type  price  overall_satisfaction  reviews\n",
      "6527  11523225  Shared room   23.0                   5.0        4\n",
      "6056  10397682  Shared room   13.0                   5.0       15\n",
      "7932  13570032  Shared room   48.0                   5.0        8\n",
      "7552  13078189  Shared room   21.0                   5.0        7\n",
      "7313  12826411  Shared room   22.0                   5.0       12\n",
      "7312  12826213  Shared room   22.0                   5.0       19\n",
      "3727   5803348  Shared room   20.0                   5.0       19\n",
      "3663   5725814  Shared room   21.0                   5.0       23\n",
      "7066  12305540  Shared room   13.0                   5.0       40\n",
      "8918  14719962  Shared room   13.0                   5.0        4\n"
     ]
    }
   ],
   "source": [
    "# Caso 3: Diana\n",
    "# Filtramos por habitaciones dentro del presupuesto de 50€\n",
    "diana_filter = df_airbnb[df_airbnb['price'] <= 50]\n",
    "\n",
    "# Separamos las habitaciones compartidas (Shared room)\n",
    "shared_rooms = diana_filter[diana_filter['room_type'] == 'Shared room'].sort_values(by='overall_satisfaction', ascending=False)\n",
    "\n",
    "# Separamos las otras opciones (no compartidas) y las ordenamos por precio\n",
    "other_rooms = diana_filter[diana_filter['room_type'] != 'Shared room'].sort_values(by='price')\n",
    "\n",
    "# Unimos las dos listas y seleccionamos las 10 mejores opciones\n",
    "diana_options = pd.concat([shared_rooms, other_rooms]).head(10)\n",
    "\n",
    "# Mostramos el resultado\n",
    "print(\"Opciones para Diana:\")\n",
    "print(diana_options[['room_id', 'room_type', 'price', 'overall_satisfaction', 'reviews']])\n"
   ]
  },
  {
   "cell_type": "markdown",
   "id": "7ce53d7f",
   "metadata": {},
   "source": [
    "# 3. Realizar Agrupamientos de Datos"
   ]
  },
  {
   "cell_type": "code",
   "execution_count": 45,
   "id": "c93c6dad",
   "metadata": {},
   "outputs": [
    {
     "name": "stdout",
     "output_type": "stream",
     "text": [
      "               neighborhood  average_price  num_properties\n",
      "0                     Ajuda      63.435185             108\n",
      "1                 Alcântara      72.582160             213\n",
      "2                  Alvalade      70.098814             253\n",
      "3                   Areeiro      93.796429             280\n",
      "4                   Arroios      73.039663            1664\n",
      "5            Avenidas Novas      81.489399             566\n",
      "6                     Beato      45.845238              84\n",
      "7                     Belém      80.523622             254\n",
      "8                   Benfica     270.816901              71\n",
      "9          Campo de Ourique     102.275862             319\n",
      "10                Campolide      79.764228             123\n",
      "11                  Carnide     229.829787              47\n",
      "12                  Estrela      89.264010             803\n",
      "13                   Lumiar      93.701613             124\n",
      "14                  Marvila      81.196078              51\n",
      "15             Misericórdia      93.097002            2402\n",
      "16                  Olivais      61.824074             108\n",
      "17        Parque das Nações     110.456000             250\n",
      "18          Penha de França      64.493857             407\n",
      "19              Santa Clara      45.000000              23\n",
      "20        Santa Maria Maior      86.923159            2798\n",
      "21            Santo António      83.558371            1105\n",
      "22  São Domingos de Benfica     203.152174             138\n",
      "23              São Vicente      75.732949            1041\n"
     ]
    }
   ],
   "source": [
    "# Agrupamos por barrio y calculamos el precio promedio y el número de propiedades\n",
    "group_by_neighborhood = df_airbnb.groupby('neighborhood').agg(\n",
    "    average_price=('price', 'mean'),\n",
    "    num_properties=('room_id', 'count')\n",
    ").reset_index()\n",
    "\n",
    "# Mostramos el resultado\n",
    "print(group_by_neighborhood)"
   ]
  },
  {
   "cell_type": "code",
   "execution_count": 46,
   "id": "3ff554cf",
   "metadata": {},
   "outputs": [
    {
     "name": "stdout",
     "output_type": "stream",
     "text": [
      "         room_type  num_properties  average_satisfaction\n",
      "0  Entire home/apt            9764              3.529526\n",
      "1     Private room            3297              2.604034\n",
      "2      Shared room             171              2.441520\n"
     ]
    }
   ],
   "source": [
    "# Agrupamos por tipo de habitación y calculamos el número de propiedades y la puntuación promedio\n",
    "group_by_room_type = df_airbnb.groupby('room_type').agg(\n",
    "    num_properties=('room_id', 'count'),\n",
    "    average_satisfaction=('overall_satisfaction', 'mean')\n",
    ").reset_index()\n",
    "\n",
    "# Mostramos el resultado\n",
    "print(group_by_room_type)"
   ]
  },
  {
   "cell_type": "code",
   "execution_count": 47,
   "id": "23317fb7",
   "metadata": {},
   "outputs": [
    {
     "data": {
      "image/png": "[encoded data removed]",
      "text/plain": [
       "<Figure size 1000x600 with 1 Axes>"
      ]
     },
     "metadata": {},
     "output_type": "display_data"
    }
   ],
   "source": [
    "# Gráfico de barras: Precio promedio por barrio\n",
    "plt.figure(figsize=(10,6))\n",
    "plt.bar(group_by_neighborhood['neighborhood'], group_by_neighborhood['average_price'], color='skyblue')\n",
    "plt.xticks(rotation=90)\n",
    "plt.xlabel('Barrio')\n",
    "plt.ylabel('Precio promedio (€)')\n",
    "plt.title('Precio promedio por barrio en Lisboa')\n",
    "plt.show()"
   ]
  },
  {
   "cell_type": "code",
   "execution_count": 36,
   "id": "c1afbe6c",
   "metadata": {},
   "outputs": [
    {
     "ename": "ModuleNotFoundError",
     "evalue": "No module named 'seaborn'",
     "output_type": "error",
     "traceback": [
      "\u001b[1;31m---------------------------------------------------------------------------\u001b[0m",
      "\u001b[1;31mModuleNotFoundError\u001b[0m                       Traceback (most recent call last)",
      "Cell \u001b[1;32mIn [36], line 1\u001b[0m\n\u001b[1;32m----> 1\u001b[0m \u001b[38;5;28;01mimport\u001b[39;00m \u001b[38;5;21;01mseaborn\u001b[39;00m \u001b[38;5;28;01mas\u001b[39;00m \u001b[38;5;21;01msns\u001b[39;00m\n\u001b[0;32m      3\u001b[0m \u001b[38;5;66;03m# Gráfico de barras: Número de propiedades por tipo de habitación\u001b[39;00m\n\u001b[0;32m      4\u001b[0m plt\u001b[38;5;241m.\u001b[39mfigure(figsize\u001b[38;5;241m=\u001b[39m(\u001b[38;5;241m8\u001b[39m,\u001b[38;5;241m6\u001b[39m))\n",
      "\u001b[1;31mModuleNotFoundError\u001b[0m: No module named 'seaborn'"
     ]
    }
   ],
   "source": [
    "# Gráfico de barras: Número de propiedades por tipo de habitación\n",
    "plt.figure(figsize=(8,6))\n",
    "sns.barplot(x='room_type', y='num_properties', data=group_by_room_type, palette='Set2')\n",
    "plt.xlabel('Tipo de habitación')\n",
    "plt.ylabel('Número de propiedades')\n",
    "plt.title('Número de propiedades por tipo de habitación')\n",
    "plt.show()"
   ]
  },
  {
   "cell_type": "code",
   "execution_count": null,
   "id": "08d0e01c",
   "metadata": {},
   "outputs": [],
   "source": []
  }
 ],
 "metadata": {
  "kernelspec": {
   "display_name": "Python 3 (ipykernel)",
   "language": "python",
   "name": "python3"
  },
  "language_info": {
   "codemirror_mode": {
    "name": "ipython",
    "version": 3
   },
   "file_extension": ".py",
   "mimetype": "text/x-python",
   "name": "python",
   "nbconvert_exporter": "python",
   "pygments_lexer": "ipython3",
   "version": "3.10.4"
  }
 },
 "nbformat": 4,
 "nbformat_minor": 5
}
